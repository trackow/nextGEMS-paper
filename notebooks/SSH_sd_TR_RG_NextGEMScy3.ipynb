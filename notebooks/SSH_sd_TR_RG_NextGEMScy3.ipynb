{
 "cells": [
  {
   "cell_type": "code",
   "execution_count": null,
   "id": "1fdb12a5-03fb-484b-9ae5-45763bb0db1b",
   "metadata": {},
   "outputs": [
    {
     "name": "stderr",
     "output_type": "stream",
     "text": [
      "/sw/spack-levante/mambaforge-22.9.0-2-Linux-x86_64-kptncg/lib/python3.10/site-packages/dask/array/numpy_compat.py:40: RuntimeWarning: invalid value encountered in divide\n",
      "  x = np.divide(x1, x2, out)\n"
     ]
    }
   ],
   "source": [
    "import pickle\n",
    "import matplotlib.pyplot as plt\n",
    "import cartopy.crs as ccrs\n",
    "import cartopy.feature as cfeature\n",
    "\n",
    "# Load the variables from the pickle file\n",
    "with open('ssh_sd.pkl', 'rb') as f:\n",
    "    sshm_std, ssh_std = pickle.load(f)\n",
    "\n",
    "# Create the figure\n",
    "fig = plt.figure(figsize=(17, 15))\n",
    "\n",
    "# First subplot\n",
    "ax1 = fig.add_subplot(121, projection=ccrs.Robinson())\n",
    "p1 = sshm_std[:, :].plot.contourf(ax=ax1, vmin=0, vmax=0.5, levels=51, extend='both', cmap='Reds', add_colorbar=False, transform=ccrs.PlateCarree(), robust=True)\n",
    "ax1.coastlines()\n",
    "ax1.add_feature(cfeature.LAND, facecolor='gray', edgecolor='k')\n",
    "ax1.set_title('Cycle 3, 4.4km, IFS-FESOM', fontsize=20)\n",
    "\n",
    "# Second subplot\n",
    "ax2 = fig.add_subplot(122, projection=ccrs.Robinson())\n",
    "p2 = ssh_std[:,:].plot.contourf(ax=ax2, vmin=0, vmax=0.5, levels=50, extend='both', cmap='Reds', add_colorbar=False, transform=ccrs.PlateCarree(), robust=True)\n",
    "ax2.coastlines()\n",
    "ax2.add_feature(cfeature.LAND, facecolor='gray', edgecolor='k')\n",
    "ax2.set_title('AVISO', fontsize=20)\n",
    "\n",
    "# Add a common colorbar\n",
    "cbar_ax = fig.add_axes([0.15, 0.38, 0.7, 0.02])  # [left, bottom, width, height]\n",
    "cbar = fig.colorbar(p1, cax=cbar_ax, extend='both', orientation='horizontal', ticks=[0, 0.1, 0.2, 0.3, 0.4, 0.5])\n",
    "cbar.set_label('SSH standard deviation in m', fontsize=20)\n",
    "cbar.ax.tick_params(labelsize=20)  # Adjust colorbar tick label font size\n",
    "\n",
    "# Adjust layout\n",
    "plt.tight_layout(rect=[0, 0.1, 1, 1])  # Adjust rect to make room for colorbar\n",
    "plt.savefig(\"NextGEMS_Cycle3_AVISO_SSH_stddev.png\", bbox_inches='tight', dpi=400)\n",
    "plt.show()"
   ]
  },
  {
   "cell_type": "code",
   "execution_count": null,
   "id": "4dd41c2e-bf45-40eb-9c5c-ab9f410fbe2c",
   "metadata": {},
   "outputs": [],
   "source": []
  }
 ],
 "metadata": {
  "kernelspec": {
   "display_name": "1 Python 3 (based on the module python3/2023.01)",
   "language": "python",
   "name": "python3_2023_01"
  },
  "language_info": {
   "codemirror_mode": {
    "name": "ipython",
    "version": 3
   },
   "file_extension": ".py",
   "mimetype": "text/x-python",
   "name": "python",
   "nbconvert_exporter": "python",
   "pygments_lexer": "ipython3",
   "version": "3.10.10"
  }
 },
 "nbformat": 4,
 "nbformat_minor": 5
}
